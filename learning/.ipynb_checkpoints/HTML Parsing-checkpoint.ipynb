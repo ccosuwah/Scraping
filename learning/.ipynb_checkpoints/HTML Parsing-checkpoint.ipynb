{
 "cells": [
  {
   "cell_type": "code",
   "execution_count": 2,
   "id": "brown-contrast",
   "metadata": {},
   "outputs": [],
   "source": [
    "import requests\n",
    "import json\n",
    "from pprint import pprint\n",
    "import webbrowser\n",
    "from bs4 import BeautifulSoup as bs"
   ]
  },
  {
   "cell_type": "code",
   "execution_count": 3,
   "id": "primary-maker",
   "metadata": {},
   "outputs": [],
   "source": [
    "example_html = \"\"\"\n",
    "<!DOCTYPE html>\n",
    "<head>\n",
    "    <title>Car Buying Web Page</title>\n",
    "    <link rel=\"stylesheet\" type=\"text/css\" href=\"example.css\">\n",
    "</head>\n",
    "<body>\n",
    "<h1 id=\"main-page-title\">Used Tesla Cars in Your Area</h1>\n",
    "\n",
    "<ul class=\"listings\">\n",
    "    <li id=\"vin3827\" class=\"auto-listing\">\n",
    "        <div>\n",
    "            <h2 class=\"model\">2017 Tesla Model 3</h2>\n",
    "            <p class=\"price\">$34,586</p>\n",
    "            <p class=\"description\">\n",
    "                A wonderful car and a great deal.</p>\n",
    "        </div>\n",
    "    </li>\n",
    "    <li id=\"vin9381\" class=\"auto-listing\">\n",
    "        <div>\n",
    "            <h2 class=\"model\">2019 Tesla Model 3</h2>\n",
    "            <p class=\"price\">$37,938</p>\n",
    "            <p class=\"description\">\n",
    "                Great deal. Low mileage.</p>\n",
    "        </div>\n",
    "    </li>\n",
    "    <li id=\"vin2938\" class=\"auto-listing\">\n",
    "        <div>\n",
    "            <h2 class=\"model\">2018 Tesla Model 3</h2>\n",
    "            <p class=\"price\">$36,263</p>\n",
    "            <p class=\"description\">\n",
    "                Bright red. Attract attention.</p>\n",
    "        </div>\n",
    "    </li>\n",
    "</ul>\n",
    "<div class=\"scratchpad\">\n",
    "    <textarea rows=\"2\" class=\"edit-box\"></textarea>\n",
    "</div>\n",
    "</body>\n",
    "</html>\n",
    "\"\"\""
   ]
  },
  {
   "cell_type": "code",
   "execution_count": 4,
   "id": "personal-falls",
   "metadata": {},
   "outputs": [],
   "source": [
    "soup = bs(example_html)"
   ]
  },
  {
   "cell_type": "code",
   "execution_count": 5,
   "id": "jewish-difficulty",
   "metadata": {},
   "outputs": [
    {
     "name": "stdout",
     "output_type": "stream",
     "text": [
      "<!DOCTYPE html>\n",
      "<html><head>\n",
      "<title>Car Buying Web Page</title>\n",
      "<link href=\"example.css\" rel=\"stylesheet\" type=\"text/css\"/>\n",
      "</head>\n",
      "<body>\n",
      "<h1 id=\"main-page-title\">Used Tesla Cars in Your Area</h1>\n",
      "<ul class=\"listings\">\n",
      "<li class=\"auto-listing\" id=\"vin3827\">\n",
      "<div>\n",
      "<h2 class=\"model\">2017 Tesla Model 3</h2>\n",
      "<p class=\"price\">$34,586</p>\n",
      "<p class=\"description\">\n",
      "                A wonderful car and a great deal.</p>\n",
      "</div>\n",
      "</li>\n",
      "<li class=\"auto-listing\" id=\"vin9381\">\n",
      "<div>\n",
      "<h2 class=\"model\">2019 Tesla Model 3</h2>\n",
      "<p class=\"price\">$37,938</p>\n",
      "<p class=\"description\">\n",
      "                Great deal. Low mileage.</p>\n",
      "</div>\n",
      "</li>\n",
      "<li class=\"auto-listing\" id=\"vin2938\">\n",
      "<div>\n",
      "<h2 class=\"model\">2018 Tesla Model 3</h2>\n",
      "<p class=\"price\">$36,263</p>\n",
      "<p class=\"description\">\n",
      "                Bright red. Attract attention.</p>\n",
      "</div>\n",
      "</li>\n",
      "</ul>\n",
      "<div class=\"scratchpad\">\n",
      "<textarea class=\"edit-box\" rows=\"2\"></textarea>\n",
      "</div>\n",
      "</body>\n",
      "</html>\n",
      "\n"
     ]
    }
   ],
   "source": [
    "print(soup)\n"
   ]
  },
  {
   "cell_type": "code",
   "execution_count": 17,
   "id": "interesting-scholarship",
   "metadata": {},
   "outputs": [
    {
     "name": "stdout",
     "output_type": "stream",
     "text": [
      "<!DOCTYPE html>\n",
      "<html>\n",
      " <head>\n",
      "  <title>\n",
      "   Car Buying Web Page\n",
      "  </title>\n",
      "  <link href=\"example.css\" rel=\"stylesheet\" type=\"text/css\"/>\n",
      " </head>\n",
      " <body>\n",
      "  <h1 id=\"main-page-title\">\n",
      "   Used Tesla Cars in Your Area\n",
      "  </h1>\n",
      "  <ul class=\"listings\">\n",
      "   <li class=\"auto-listing\" id=\"vin3827\">\n",
      "    <div>\n",
      "     <h2 class=\"model\">\n",
      "      2017 Tesla Model 3\n",
      "     </h2>\n",
      "     <p class=\"price\">\n",
      "      $34,586\n",
      "     </p>\n",
      "     <p class=\"description\">\n",
      "      A wonderful car and a great deal.\n",
      "     </p>\n",
      "    </div>\n",
      "   </li>\n",
      "   <li class=\"auto-listing\" id=\"vin9381\">\n",
      "    <div>\n",
      "     <h2 class=\"model\">\n",
      "      2019 Tesla Model 3\n",
      "     </h2>\n",
      "     <p class=\"price\">\n",
      "      $37,938\n",
      "     </p>\n",
      "     <p class=\"description\">\n",
      "      Great deal. Low mileage.\n",
      "     </p>\n",
      "    </div>\n",
      "   </li>\n",
      "   <li class=\"auto-listing\" id=\"vin2938\">\n",
      "    <div>\n",
      "     <h2 class=\"model\">\n",
      "      2018 Tesla Model 3\n",
      "     </h2>\n",
      "     <p class=\"price\">\n",
      "      $36,263\n",
      "     </p>\n",
      "     <p class=\"description\">\n",
      "      Bright red. Attract attention.\n",
      "     </p>\n",
      "    </div>\n",
      "   </li>\n",
      "  </ul>\n",
      "  <div class=\"scratchpad\">\n",
      "   <textarea class=\"edit-box\" rows=\"2\"></textarea>\n",
      "  </div>\n",
      " </body>\n",
      "</html>\n",
      "\n"
     ]
    }
   ],
   "source": [
    "print(soup.prettify())"
   ]
  },
  {
   "cell_type": "code",
   "execution_count": 6,
   "id": "controversial-niagara",
   "metadata": {},
   "outputs": [
    {
     "data": {
      "text/plain": [
       "<link href=\"example.css\" rel=\"stylesheet\" type=\"text/css\"/>"
      ]
     },
     "execution_count": 6,
     "metadata": {},
     "output_type": "execute_result"
    }
   ],
   "source": [
    "soup.link"
   ]
  },
  {
   "cell_type": "code",
   "execution_count": 7,
   "id": "historic-secretariat",
   "metadata": {},
   "outputs": [
    {
     "data": {
      "text/plain": [
       "<title>Car Buying Web Page</title>"
      ]
     },
     "execution_count": 7,
     "metadata": {},
     "output_type": "execute_result"
    }
   ],
   "source": [
    "soup.title"
   ]
  },
  {
   "cell_type": "code",
   "execution_count": 8,
   "id": "going-essex",
   "metadata": {},
   "outputs": [
    {
     "data": {
      "text/plain": [
       "<body>\n",
       "<h1 id=\"main-page-title\">Used Tesla Cars in Your Area</h1>\n",
       "<ul class=\"listings\">\n",
       "<li class=\"auto-listing\" id=\"vin3827\">\n",
       "<div>\n",
       "<h2 class=\"model\">2017 Tesla Model 3</h2>\n",
       "<p class=\"price\">$34,586</p>\n",
       "<p class=\"description\">\n",
       "                A wonderful car and a great deal.</p>\n",
       "</div>\n",
       "</li>\n",
       "<li class=\"auto-listing\" id=\"vin9381\">\n",
       "<div>\n",
       "<h2 class=\"model\">2019 Tesla Model 3</h2>\n",
       "<p class=\"price\">$37,938</p>\n",
       "<p class=\"description\">\n",
       "                Great deal. Low mileage.</p>\n",
       "</div>\n",
       "</li>\n",
       "<li class=\"auto-listing\" id=\"vin2938\">\n",
       "<div>\n",
       "<h2 class=\"model\">2018 Tesla Model 3</h2>\n",
       "<p class=\"price\">$36,263</p>\n",
       "<p class=\"description\">\n",
       "                Bright red. Attract attention.</p>\n",
       "</div>\n",
       "</li>\n",
       "</ul>\n",
       "<div class=\"scratchpad\">\n",
       "<textarea class=\"edit-box\" rows=\"2\"></textarea>\n",
       "</div>\n",
       "</body>"
      ]
     },
     "execution_count": 8,
     "metadata": {},
     "output_type": "execute_result"
    }
   ],
   "source": [
    "soup.body"
   ]
  },
  {
   "cell_type": "code",
   "execution_count": 9,
   "id": "level-optics",
   "metadata": {},
   "outputs": [
    {
     "data": {
      "text/plain": [
       "'html'"
      ]
     },
     "execution_count": 9,
     "metadata": {},
     "output_type": "execute_result"
    }
   ],
   "source": [
    "soup.body.parent.name"
   ]
  },
  {
   "cell_type": "code",
   "execution_count": 10,
   "id": "parallel-smile",
   "metadata": {},
   "outputs": [],
   "source": [
    "html = \"\"\"\n",
    "    <h1><a /><b><th <td>\n",
    "\"\"\""
   ]
  },
  {
   "cell_type": "code",
   "execution_count": 11,
   "id": "criminal-proxy",
   "metadata": {},
   "outputs": [
    {
     "name": "stdout",
     "output_type": "stream",
     "text": [
      "<html>\n",
      " <body>\n",
      "  <h1>\n",
      "   <a>\n",
      "   </a>\n",
      "   <b>\n",
      "   </b>\n",
      "   <th>\n",
      "   </th>\n",
      "  </h1>\n",
      " </body>\n",
      "</html>\n"
     ]
    }
   ],
   "source": [
    "soup = bs(html)\n",
    "print(soup.prettify())"
   ]
  },
  {
   "cell_type": "code",
   "execution_count": 12,
   "id": "handled-infrared",
   "metadata": {},
   "outputs": [
    {
     "name": "stdout",
     "output_type": "stream",
     "text": [
      "<html>\n",
      " <body>\n",
      "  <h1>\n",
      "   <a>\n",
      "   </a>\n",
      "   <b>\n",
      "   </b>\n",
      "   <th>\n",
      "   </th>\n",
      "  </h1>\n",
      " </body>\n",
      "</html>\n"
     ]
    }
   ],
   "source": [
    "soup = bs(html,'lxml')\n",
    "print(soup.prettify())"
   ]
  },
  {
   "cell_type": "code",
   "execution_count": 13,
   "id": "billion-spokesman",
   "metadata": {},
   "outputs": [
    {
     "name": "stdout",
     "output_type": "stream",
     "text": [
      "<html>\n",
      " <head>\n",
      " </head>\n",
      " <body>\n",
      "  <h1>\n",
      "   <a>\n",
      "    <b>\n",
      "    </b>\n",
      "   </a>\n",
      "  </h1>\n",
      " </body>\n",
      "</html>\n"
     ]
    }
   ],
   "source": [
    "soup = bs(html,'html5')\n",
    "print(soup.prettify())"
   ]
  },
  {
   "cell_type": "code",
   "execution_count": 14,
   "id": "regulation-semester",
   "metadata": {},
   "outputs": [
    {
     "name": "stdout",
     "output_type": "stream",
     "text": [
      "<h1>\n",
      " <a>\n",
      " </a>\n",
      " <b>\n",
      "  <th <td=\"\">\n",
      "  </th>\n",
      " </b>\n",
      "</h1>\n"
     ]
    }
   ],
   "source": [
    "soup = bs(html, 'html.parser')\n",
    "print(soup.prettify())"
   ]
  },
  {
   "cell_type": "code",
   "execution_count": 15,
   "id": "naked-allergy",
   "metadata": {},
   "outputs": [
    {
     "name": "stdout",
     "output_type": "stream",
     "text": [
      "<html>\n",
      " <head>\n",
      " </head>\n",
      " <body>\n",
      "  <h1>\n",
      "   <a>\n",
      "    <b>\n",
      "    </b>\n",
      "   </a>\n",
      "  </h1>\n",
      " </body>\n",
      "</html>\n"
     ]
    }
   ],
   "source": [
    "soup = bs(html,'html5lib')\n",
    "print(soup.prettify())"
   ]
  },
  {
   "cell_type": "code",
   "execution_count": 16,
   "id": "flexible-worse",
   "metadata": {},
   "outputs": [
    {
     "name": "stdout",
     "output_type": "stream",
     "text": [
      "<?xml version=\"1.0\" encoding=\"utf-8\"?>\n",
      "<h1>\n",
      " <a/>\n",
      " <b>\n",
      "  <th>\n",
      "   <td/>\n",
      "  </th>\n",
      " </b>\n",
      "</h1>\n"
     ]
    }
   ],
   "source": [
    "soup = bs(html,'xml')\n",
    "print(soup.prettify())"
   ]
  },
  {
   "cell_type": "code",
   "execution_count": 17,
   "id": "hawaiian-giving",
   "metadata": {},
   "outputs": [
    {
     "name": "stdout",
     "output_type": "stream",
     "text": [
      "<?xml version=\"1.0\" encoding=\"utf-8\"?>\n",
      "<h1>\n",
      " <a/>\n",
      " <b>\n",
      "  <th>\n",
      "   <td/>\n",
      "  </th>\n",
      " </b>\n",
      "</h1>\n"
     ]
    }
   ],
   "source": [
    "soup = bs(html,'lxml-xml')\n",
    "print(soup.prettify())"
   ]
  },
  {
   "cell_type": "code",
   "execution_count": 18,
   "id": "sensitive-steal",
   "metadata": {},
   "outputs": [
    {
     "data": {
      "text/plain": [
       "<Response [200]>"
      ]
     },
     "execution_count": 18,
     "metadata": {},
     "output_type": "execute_result"
    }
   ],
   "source": [
    "resp = requests.get(\"https://google.com\")\n",
    "resp"
   ]
  },
  {
   "cell_type": "code",
   "execution_count": null,
   "id": "instructional-mailing",
   "metadata": {},
   "outputs": [],
   "source": []
  },
  {
   "cell_type": "code",
   "execution_count": null,
   "id": "sitting-robin",
   "metadata": {},
   "outputs": [],
   "source": []
  },
  {
   "cell_type": "code",
   "execution_count": null,
   "id": "final-incident",
   "metadata": {},
   "outputs": [],
   "source": []
  },
  {
   "cell_type": "code",
   "execution_count": null,
   "id": "varied-republic",
   "metadata": {},
   "outputs": [],
   "source": []
  },
  {
   "cell_type": "code",
   "execution_count": null,
   "id": "seasonal-tattoo",
   "metadata": {},
   "outputs": [],
   "source": []
  },
  {
   "cell_type": "code",
   "execution_count": null,
   "id": "executive-boost",
   "metadata": {},
   "outputs": [],
   "source": []
  },
  {
   "cell_type": "code",
   "execution_count": null,
   "id": "dental-culture",
   "metadata": {},
   "outputs": [],
   "source": []
  },
  {
   "cell_type": "code",
   "execution_count": null,
   "id": "pharmaceutical-sociology",
   "metadata": {},
   "outputs": [],
   "source": []
  }
 ],
 "metadata": {
  "kernelspec": {
   "display_name": "Python 3",
   "language": "python",
   "name": "python3"
  },
  "language_info": {
   "codemirror_mode": {
    "name": "ipython",
    "version": 3
   },
   "file_extension": ".py",
   "mimetype": "text/x-python",
   "name": "python",
   "nbconvert_exporter": "python",
   "pygments_lexer": "ipython3",
   "version": "3.9.1"
  }
 },
 "nbformat": 4,
 "nbformat_minor": 5
}
