{
 "cells": [
  {
   "cell_type": "code",
   "execution_count": 3,
   "id": "acting-honey",
   "metadata": {},
   "outputs": [
    {
     "name": "stdout",
     "output_type": "stream",
     "text": [
      "hello\n"
     ]
    }
   ],
   "source": [
    "print (\"hello\")\n"
   ]
  },
  {
   "cell_type": "code",
   "execution_count": 4,
   "id": "lasting-location",
   "metadata": {},
   "outputs": [
    {
     "name": "stdout",
     "output_type": "stream",
     "text": [
      "Requirement already satisfied: httplib2 in c:\\users\\chisom\\anaconda3\\envs\\scrape_env\\lib\\site-packages (0.19.0)\n",
      "Requirement already satisfied: pyparsing<3,>=2.4.2 in c:\\users\\chisom\\anaconda3\\envs\\scrape_env\\lib\\site-packages (from httplib2) (2.4.7)\n"
     ]
    }
   ],
   "source": [
    "!pip install httplib2\n"
   ]
  },
  {
   "cell_type": "code",
   "execution_count": 5,
   "id": "romantic-involvement",
   "metadata": {},
   "outputs": [],
   "source": [
    "import httplib2\n",
    "import webbrowser\n",
    "from pprint import pprint\n"
   ]
  },
  {
   "cell_type": "code",
   "execution_count": 6,
   "id": "linear-license",
   "metadata": {},
   "outputs": [],
   "source": [
    "bin_url = 'https://httpbin.org/'"
   ]
  },
  {
   "cell_type": "code",
   "execution_count": 7,
   "id": "incorrect-novel",
   "metadata": {},
   "outputs": [
    {
     "data": {
      "text/plain": [
       "True"
      ]
     },
     "execution_count": 7,
     "metadata": {},
     "output_type": "execute_result"
    }
   ],
   "source": [
    "webbrowser.open(bin_url)"
   ]
  },
  {
   "cell_type": "code",
   "execution_count": 8,
   "id": "average-heritage",
   "metadata": {},
   "outputs": [],
   "source": [
    "http = httplib2.Http()"
   ]
  },
  {
   "cell_type": "code",
   "execution_count": 9,
   "id": "constant-expansion",
   "metadata": {},
   "outputs": [],
   "source": [
    "resp,data = http.request(bin_url)"
   ]
  },
  {
   "cell_type": "code",
   "execution_count": 10,
   "id": "union-dryer",
   "metadata": {},
   "outputs": [
    {
     "name": "stdout",
     "output_type": "stream",
     "text": [
      "{'access-control-allow-credentials': 'true',\n",
      " 'access-control-allow-origin': '*',\n",
      " 'connection': 'keep-alive',\n",
      " 'content-length': '9593',\n",
      " 'content-location': 'https://httpbin.org/',\n",
      " 'content-type': 'text/html; charset=utf-8',\n",
      " 'date': 'Thu, 11 Mar 2021 13:26:55 GMT',\n",
      " 'server': 'gunicorn/19.9.0',\n",
      " 'status': '200'}\n"
     ]
    }
   ],
   "source": [
    "pprint(resp)"
   ]
  },
  {
   "cell_type": "code",
   "execution_count": 11,
   "id": "labeled-length",
   "metadata": {},
   "outputs": [
    {
     "data": {
      "text/plain": [
       "200"
      ]
     },
     "execution_count": 11,
     "metadata": {},
     "output_type": "execute_result"
    }
   ],
   "source": [
    "resp.status"
   ]
  },
  {
   "cell_type": "code",
   "execution_count": 12,
   "id": "suitable-shape",
   "metadata": {},
   "outputs": [
    {
     "data": {
      "text/plain": [
       "'OK'"
      ]
     },
     "execution_count": 12,
     "metadata": {},
     "output_type": "execute_result"
    }
   ],
   "source": [
    "resp.reason"
   ]
  },
  {
   "cell_type": "code",
   "execution_count": 13,
   "id": "adaptive-sunday",
   "metadata": {},
   "outputs": [],
   "source": [
    "#See redirect\n",
    "resp.previous"
   ]
  },
  {
   "cell_type": "code",
   "execution_count": 14,
   "id": "olympic-ceremony",
   "metadata": {},
   "outputs": [
    {
     "name": "stdout",
     "output_type": "stream",
     "text": [
      "(b'<!DOCTYPE html>\\n<html lang=\"en\">\\n\\n<head>\\n    <meta charset=\"UTF-8\">\\n'\n",
      " b'    <title>httpbin.org</title>\\n    <link href=\"https://fonts.googleapis.'\n",
      " b'com/css?family=Open+Sans:400,700|Source+Code+Pro:300,600|Titillium+Web:400,6'\n",
      " b'00,700\"\\n        rel=\"stylesheet\">\\n    <link rel=\"stylesheet\" type=\"text/'\n",
      " b'css\" href=\"/flasgger_static/swagger-ui.css\">\\n    <link rel=\"icon\" type=\"'\n",
      " b'image/png\" href=\"/static/favicon.ico\" sizes=\"64x64 32x32 16x16\" />\\n    <'\n",
      " b'style>\\n        html {\\n            box-sizing: border-box;\\n            ov'\n",
      " b'erflow: -moz-scrollbars-vertical;\\n            overflow-y: scroll;\\n      '\n",
      " b'  }\\n\\n        *,\\n        *:before,\\n        *:after {\\n            box-'\n",
      " b'sizing: inherit;\\n        }\\n\\n        body {\\n            margin: 0;\\n  '\n",
      " b'          background: #fafafa;\\n        }\\n    </style>\\n</head>\\n\\n<body'\n",
      " b'>\\n    <a href=\"https://github.com/requests/httpbin\" class=\"github-corner'\n",
      " b'\" aria-label=\"View source on Github\">\\n        <svg width=\"80\" height=\"80'\n",
      " b'\" viewBox=\"0 0 250 250\" style=\"fill:#151513; color:#fff; position: absolute;'\n",
      " b' top: 0; border: 0; right: 0;\"\\n            aria-hidden=\"true\">\\n         '\n",
      " b'   <path d=\"M0,0 L115,115 L130,115 L142,142 L250,250 L250,0 Z\"></path>\\n '\n",
      " b'           <path d=\"M128.3,109.0 C113.8,99.7 119.0,89.6 119.0,89.6 C122.0,82'\n",
      " b'.7 120.5,78.6 120.5,78.6 C119.2,72.0 123.4,76.3 123.4,76.3 C127.3,80.9 125.5'\n",
      " b',87.3 125.5,87.3 C122.9,97.6 130.6,101.9 134.4,103.2\"\\n                fi'\n",
      " b'll=\"currentColor\" style=\"transform-origin: 130px 106px;\" class=\"octo-arm\"></'\n",
      " b'path>\\n            <path d=\"M115.0,115.0 C114.9,115.1 118.7,116.5 119.8,1'\n",
      " b'15.4 L133.7,101.6 C136.9,99.2 139.9,98.4 142.2,98.6 C133.8,88.0 127.5,74.4 1'\n",
      " b'43.8,58.0 C148.5,53.4 154.0,51.2 159.7,51.0 C160.3,49.4 163.2,43.6 171.4,40.'\n",
      " b'1 C171.4,40.1 176.1,42.5 178.8,56.2 C183.1,58.6 187.2,61.8 190.9,65.4 C194.5'\n",
      " b',69.0 197.7,73.2 200.1,77.6 C213.8,80.2 216.3,84.9 216.3,84.9 C212.7,93.1 20'\n",
      " b'6.9,96.0 205.4,96.6 C205.1,102.4 203.0,107.8 198.3,112.5 C181.9,128.9 168.3,'\n",
      " b'122.5 157.7,114.1 C157.9,116.9 156.7,120.9 152.7,124.9 L141.0,136.5 C139.8,1'\n",
      " b'37.7 141.6,141.9 141.8,141.8 Z\"\\n                fill=\"currentColor\" clas'\n",
      " b's=\"octo-body\"></path>\\n        </svg>\\n    </a>\\n    <svg xmlns=\"http://www'\n",
      " b'.w3.org/2000/svg\" xmlns:xlink=\"http://www.w3.org/1999/xlink\" style=\"position'\n",
      " b':absolute;width:0;height:0\">\\n        <defs>\\n            <symbol viewBox='\n",
      " b'\"0 0 20 20\" id=\"unlocked\">\\n                <path d=\"M15.8 8H14V5.6C14 2.'\n",
      " b'703 12.665 1 10 1 7.334 1 6 2.703 6 5.6V6h2v-.801C8 3.754 8.797 3 10 3c1.203'\n",
      " b' 0 2 .754 2 2.199V8H4c-.553 0-1 .646-1 1.199V17c0 .549.428 1.139.951 1.307l1'\n",
      " b'.197.387C5.672 18.861 6.55 19 7.1 19h5.8c.549 0 1.428-.139 1.951-.307l1.196-'\n",
      " b'.387c.524-.167.953-.757.953-1.306V9.199C17 8.646 16.352 8 15.8 8z\"></pat'\n",
      " b'h>\\n            </symbol>\\n\\n            <symbol viewBox=\"0 0 20 20\" id=\"lo'\n",
      " b'cked\">\\n                <path d=\"M15.8 8H14V5.6C14 2.703 12.665 1 10 1 7.'\n",
      " b'334 1 6 2.703 6 5.6V8H4c-.553 0-1 .646-1 1.199V17c0 .549.428 1.139.951 1.307'\n",
      " b'l1.197.387C5.672 18.861 6.55 19 7.1 19h5.8c.549 0 1.428-.139 1.951-.307l1.19'\n",
      " b'6-.387c.524-.167.953-.757.953-1.306V9.199C17 8.646 16.352 8 15.8 8zM12 8H8V5'\n",
      " b'.199C8 3.754 8.797 3 10 3c1.203 0 2 .754 2 2.199V8z\"\\n                />\\n'\n",
      " b'            </symbol>\\n\\n            <symbol viewBox=\"0 0 20 20\" id=\"close'\n",
      " b'\">\\n                <path d=\"M14.348 14.849c-.469.469-1.229.469-1.697 0L1'\n",
      " b'0 11.819l-2.651 3.029c-.469.469-1.229.469-1.697 0-.469-.469-.469-1.229 0-1.6'\n",
      " b'97l2.758-3.15-2.759-3.152c-.469-.469-.469-1.228 0-1.697.469-.469 1.228-.469 '\n",
      " b'1.697 0L10 8.183l2.651-3.031c.469-.469 1.228-.469 1.697 0 .469.469.469 1.229'\n",
      " b' 0 1.697l-2.758 3.152 2.758 3.15c.469.469.469 1.229 0 1.698z\"\\n          '\n",
      " b'      />\\n            </symbol>\\n\\n            <symbol viewBox=\"0 0 20 20\" '\n",
      " b'id=\"large-arrow\">\\n                <path d=\"M13.25 10L6.109 2.58c-.268-.2'\n",
      " b'7-.268-.707 0-.979.268-.27.701-.27.969 0l7.83 7.908c.268.271.268.709 0 .979l'\n",
      " b'-7.83 7.908c-.268.271-.701.27-.969 0-.268-.269-.268-.707 0-.979L13.25 10'\n",
      " b'z\"\\n                />\\n            </symbol>\\n\\n            <symbol viewBox'\n",
      " b'=\"0 0 20 20\" id=\"large-arrow-down\">\\n                <path d=\"M17.418 6.1'\n",
      " b'09c.272-.268.709-.268.979 0s.271.701 0 .969l-7.908 7.83c-.27.268-.707.268-.9'\n",
      " b'79 0l-7.908-7.83c-.27-.268-.27-.701 0-.969.271-.268.709-.268.979 0L10 13.25l'\n",
      " b'7.418-7.141z\"\\n                />\\n            </symbol>\\n\\n\\n           '\n",
      " b' <symbol viewBox=\"0 0 24 24\" id=\"jump-to\">\\n                <path d=\"M19 '\n",
      " b'7v4H5.83l3.58-3.59L8 6l-6 6 6 6 1.41-1.41L5.83 13H21V7z\" />\\n            '\n",
      " b'</symbol>\\n\\n            <symbol viewBox=\"0 0 24 24\" id=\"expand\">\\n        '\n",
      " b'        <path d=\"M10 18h4v-2h-4v2zM3 6v2h18V6H3zm3 7h12v-2H6v2z\" />\\n    '\n",
      " b'        </symbol>\\n\\n        </defs>\\n    </svg>\\n\\n\\n    <div id=\"swagger'\n",
      " b'-ui\">\\n        <div data-reactroot=\"\" class=\"swagger-ui\">\\n            <di'\n",
      " b'v>\\n                <div class=\"information-container wrapper\">\\n         '\n",
      " b'           <section class=\"block col-12\">\\n                        <div c'\n",
      " b'lass=\"info\">\\n                            <hgroup class=\"main\">\\n         '\n",
      " b'                       <h2 class=\"title\">httpbin.org\\n                   '\n",
      " b'                 <small>\\n                                        <pre cl'\n",
      " b'ass=\"version\">0.9.2</pre>\\n                                    </small>\\n '\n",
      " b'                               </h2>\\n                                <pr'\n",
      " b'e class=\"base-url\">[ Base URL: httpbin.org/ ]</pre>\\n                    '\n",
      " b'        </hgroup>\\n                            <div class=\"description\">\\n'\n",
      " b'                                <div class=\"markdown\">\\n                 '\n",
      " b'                   <p>A simple HTTP Request &amp; Response Service.\\n    '\n",
      " b'                                    <br>\\n                               '\n",
      " b'         <br>\\n                                        <b>Run locally: </'\n",
      " b'b>\\n                                        <code>$ docker run -p 80:80 k'\n",
      " b'ennethreitz/httpbin</code>\\n                                    </p>\\n    '\n",
      " b'                            </div>\\n                            </div>\\n  '\n",
      " b'                          <div>\\n                                <div>\\n  '\n",
      " b'                                  <a href=\"https://kennethreitz.org\" target='\n",
      " b'\"_blank\">the developer - Website</a>\\n                                </d'\n",
      " b'iv>\\n                                <a href=\"mailto:me@kennethreitz.org\"'\n",
      " b'>Send email to the developer</a>\\n                            </div>\\n    '\n",
      " b'                    </div>\\n                        <!-- ADDS THE LOADER '\n",
      " b'SPINNER -->\\n                        <div class=\"loading-container\">\\n    '\n",
      " b'                        <div class=\"loading\"></div>\\n                    '\n",
      " b'    </div>\\n\\n                    </section>\\n                </div>\\n      '\n",
      " b\"      </div>\\n        </div>\\n    </div>\\n\\n\\n    <div class='swagger-ui'\"\n",
      " b'>\\n        <div class=\"wrapper\">\\n            <section class=\"clear\">\\n    '\n",
      " b'            <span style=\"float: right;\">\\n                    [Powered by'\n",
      " b'\\n                    <a target=\"_blank\" href=\"https://github.com/rochacb'\n",
      " b'runo/flasgger\">Flasgger</a>]\\n                    <br>\\n                </'\n",
      " b'span>\\n            </section>\\n        </div>\\n    </div>\\n\\n\\n\\n    <scrip'\n",
      " b't src=\"/flasgger_static/swagger-ui-bundle.js\"> </script>\\n    <script src'\n",
      " b'=\"/flasgger_static/swagger-ui-standalone-preset.js\"> </script>\\n    <scri'\n",
      " b\"pt src='/flasgger_static/lib/jquery.min.js' type='text/javascript'></script>\"\n",
      " b'\\n    <script>\\n\\n        window.onload = function () {\\n            \\n\\n '\n",
      " b'           fetch(\"/spec.json\")\\n                .then(function (response)'\n",
      " b' {\\n                    response.json()\\n                        .then(fun'\n",
      " b'ction (json) {\\n                            var current_protocol = window'\n",
      " b'.location.protocol.slice(0, -1);\\n                            if (json.sc'\n",
      " b'hemes[0] != current_protocol) {\\n                                // Switc'\n",
      " b'hes scheme to the current in use\\n                                var oth'\n",
      " b'er_protocol = json.schemes[0];\\n                                json.sche'\n",
      " b'mes[0] = current_protocol;\\n                                json.schemes['\n",
      " b'1] = other_protocol;\\n\\n                            }\\n                    '\n",
      " b'        json.host = window.location.host;  // sets the current host\\n\\n   '\n",
      " b'                         const ui = SwaggerUIBundle({\\n                  '\n",
      " b'              spec: json,\\n                                validatorUrl: '\n",
      " b\"null,\\n                                dom_id: '#swagger-ui',\\n           \"\n",
      " b'                     deepLinking: true,\\n                                '\n",
      " b'jsonEditor: true,\\n                                docExpansion: \"none\",\\n'\n",
      " b'                                apisSorter: \"alpha\",\\n                   '\n",
      " b'             //operationsSorter: \"alpha\",\\n                              '\n",
      " b'  presets: [\\n                                    SwaggerUIBundle.presets'\n",
      " b'.apis,\\n                                    // yay ES6 modules \\xe2\\x86'\n",
      " b'\\x98\\n                                    Array.isArray(SwaggerUIStandaloneP'\n",
      " b'reset) ? SwaggerUIStandalonePreset : SwaggerUIStandalonePreset.default\\n '\n",
      " b'                               ],\\n                                plugin'\n",
      " b's: [\\n                                    SwaggerUIBundle.plugins.Downloa'\n",
      " b'dUrl\\n                                ],\\n            \\n            // layo'\n",
      " b'ut: \"StandaloneLayout\"  // uncomment to enable the green top header\\n    '\n",
      " b'    })\\n\\n        window.ui = ui\\n\\n        // uncomment to rename the top b'\n",
      " b'rand if layout is enabled\\n        // $(\".topbar-wrapper .link span\").rep'\n",
      " b'laceWith(\"<span>httpbin</span>\");\\n        })\\n    })\\n}\\n    </script>  <di'\n",
      " b'v class=\\'swagger-ui\\'>\\n    <div class=\"wrapper\">\\n        <section class=\"'\n",
      " b'block col-12 block-desktop col-12-desktop\">\\n            <div>\\n\\n         '\n",
      " b'       <h2>Other Utilities</h2>\\n\\n                <ul>\\n                  '\n",
      " b'  <li>\\n                        <a href=\"/forms/post\">HTML form</a> that '\n",
      " b'posts to /post /forms/post</li>\\n                </ul>\\n\\n                <'\n",
      " b'br />\\n                <br />\\n            </div>\\n        </section>\\n    <'\n",
      " b'/div>\\n</div>\\n</body>\\n\\n</html>')\n"
     ]
    }
   ],
   "source": [
    "pprint(data)"
   ]
  },
  {
   "cell_type": "code",
   "execution_count": 15,
   "id": "congressional-thumbnail",
   "metadata": {},
   "outputs": [
    {
     "name": "stdout",
     "output_type": "stream",
     "text": [
      "(b'<!doctype html><html itemscope=\"\" itemtype=\"http://schema.org/WebPage\" lang='\n",
      " b'\"en\"><head><meta content=\"Search the world\\'s information, including webp'\n",
      " b'ages, images, videos and more. Google has many special features to help you '\n",
      " b'find exactly what you\\'re looking for.\" name=\"description\"><meta content='\n",
      " b'\"noodp\" name=\"robots\"><meta content=\"text/html; charset=UTF-8\" http-equiv=\"C'\n",
      " b'ontent-Type\"><meta content=\"/images/branding/googleg/1x/googleg_standard_col'\n",
      " b'or_128dp.png\" itemprop=\"image\"><title>Google</title><script nonce=\"TmNFghhkI'\n",
      " b'TZYpg+eVIwj5w==\">(function(){window.google={kEI:\\'1htKYJKUFsSP5wLX8JzICQ\\''\n",
      " b\",kEXPI:'0,202200,1100233,56976,954,755,4349,207,2414,2390,2316,383,246,5,135\"\n",
      " b'4,4919,17,314,1504,838,1120174,1233,1196499,550,328985,51224,16114,17444,112'\n",
      " b'40,9188,8384,4859,1361,9291,3027,2816,1924,7,12834,4020,978,13125,103,2054,9'\n",
      " b'20,873,4192,6430,1142,13386,4520,2774,919,2277,8,85,4304,1279,2212,530,149,1'\n",
      " b'103,840,517,1466,3,53,157,4101,109,1338,1,3,2669,2023,1777,521,4268,328,1284'\n",
      " b',8789,3227,2845,7,12354,5096,7876,4929,108,1483,1926,906,2,3555,2397,7470,1,'\n",
      " b'2842,432,3,1590,1,820,1,4623,149,5990,5333,2652,4,1528,2304,1236,1145,4658,7'\n",
      " b'4,1717,266,2627,459,1555,4067,5634,1426,374,3824,1011,286,1753,2658,4243,518'\n",
      " b',913,20,543,503,616,31,3854,781,3494,3286,2213,2305,638,37,2062,2,1482,3497,'\n",
      " b'9765,28,11,731,665,324,730,1091,3652,2560,479,511,1057,906,782,359,20,47,99,'\n",
      " b'2091,881,6,908,3,163,1164,2214,1,3324,196,654,1175,636,92,922,1711,584,1018,'\n",
      " b'133,430,3835,1,1186,627,38,245,972,2536,838,1164,6,771,617,1260,239,726,229,'\n",
      " b'2,1056,1482,1760,402,30,2857,426,286,77,121,18,575,980,2,1394,110,1,627,18,6'\n",
      " b'59,110,8,1,27,363,774,108,1337,378,2,3057,428,125,1224,1,197,20,76,3170,1,37'\n",
      " b'0,356,187,12,493,230,607,725,4,106,386,2,2,1026,1258,99,919,809,2,61,154,288'\n",
      " b',176,166,88,166,110,728,10,2,540,22,428,1032,92,29,1753,5679522,13,3696,161,'\n",
      " b'35,102,101,5997101,2800707,549,333,444,1,2,80,1,1796,1,9,2,2551,1,748,141,80'\n",
      " b'1,557,1,4265,1,1,2,1331,3299,843,1,2608,172,13,72,174,9,155,13,16,44,2,44,97'\n",
      " b\",30,7,1,80,11,23956713,149,2776056,1234068,268',kBL:'E5Nt'};google.sn='webhp\"\n",
      " b\"';google.kHL='en';})();(function(){\\nvar f=[];google.getEI=function(a){fo\"\n",
      " b'r(var b;a&&(!a.getAttribute||!(b=a.getAttribute(\"eid\")));)a=a.parentNode;ret'\n",
      " b'urn b||google.kEI};google.getLEI=function(a){for(var b=null;a&&(!a.getAttrib'\n",
      " b'ute||!(b=a.getAttribute(\"leid\")));)a=a.parentNode;return b};google.ml=functi'\n",
      " b'on(){return null};google.log=function(a,b,c,d,g){if(c=google.logUrl(a,b,c,d,'\n",
      " b'g)){a=new Image;var e=f.length;f[e]=a;a.onerror=a.onload=a.onabort=function('\n",
      " b'){delete f[e]};a.src=c}};google.logUrl=function(a,b,c,d,g){var e=\"\";c||-1!=b'\n",
      " b'.search(\"&ei=\")||(e=\"&ei=\"+google.getEI(d),-1==b.search(\"&lei=\")&&(d=google.'\n",
      " b'getLEI(d))&&(e+=\"&lei=\"+d));d=\"\";!c&&window._cshid&&-1==b.search(\"&cshid=\")&'\n",
      " b'&\"slh\"!=a&&(d=\"&cshid=\"+window._cshid);c=c||\"/\"+(g||\"gen_204\")+\"?atyp=i&ct=\"'\n",
      " b'+a+\"&cad=\"+b+e+\"&zx=\"+Date.now()+d;/^http:/i.test(c)&&\"https:\"==window.locat'\n",
      " b'ion.protocol&&(google.ml(Error(\"a\"),!1,{src:c,glmm:1}),c=\"\");return c};}).ca'\n",
      " b'll(this);(function(){google.y={};google.x=function(a,b){if(a)var c=a.id;else'\n",
      " b'{do c=Math.random();while(google.y[c])}google.y[c]=[a,b];return!1};google.lm'\n",
      " b'=[];google.plm=function(a){google.lm.push.apply(google.lm,a)};google.lq=[];g'\n",
      " b'oogle.load=function(a,b,c){google.lq.push([[a],b,c])};google.loadAll=functio'\n",
      " b'n(a,b){google.lq.push([a,b])};google.bx=!1;google.lx=function(){};}).call(th'\n",
      " b'is);google.f={};(function(){\\ndocument.documentElement.addEventListener(\"'\n",
      " b'submit\",function(b){var a;if(a=b.target){var c=a.getAttribute(\"data-submitfa'\n",
      " b'lse\");a=\"1\"==c||\"q\"==c&&!a.elements.q.value?!0:!1}else a=!1;a&&(b.preventDef'\n",
      " b'ault(),b.stopPropagation())},!0);document.documentElement.addEventListener(\"'\n",
      " b'click\",function(b){var a;a:{for(a=b.target;a&&a!=document.documentElement;a='\n",
      " b'a.parentElement)if(\"A\"==a.tagName){a=\"1\"==a.getAttribute(\"data-nohref\");brea'\n",
      " b'k a}a=!1}a&&b.preventDefault()},!0);}).call(this);\\nvar a=window.location'\n",
      " b',b=a.href.indexOf(\"#\");if(0<=b){var c=a.href.substring(b+1);/(^|&)q=/.test(c'\n",
      " b')&&-1==c.indexOf(\"#\")&&a.replace(\"/search?\"+c.replace(/(^|&)fp=[^&]*/g,\"\")+\"'\n",
      " b'&cad=h\")};</script><style>#gbar,#guser{font-size:13px;padding-top:1px !impor'\n",
      " b'tant;}#gbar{height:22px}#guser{padding-bottom:7px !important;text-align:righ'\n",
      " b't}.gbh,.gbd{border-top:1px solid #c9d7f1;font-size:1px}.gbh{height:0;positio'\n",
      " b'n:absolute;top:24px;width:100%}@media all{.gb1{height:22px;margin-right:.5em'\n",
      " b';vertical-align:top}#gbar{float:left}}a.gb1,a.gb4{text-decoration:underline '\n",
      " b'!important}a.gb1,a.gb4{color:#00c !important}.gbi .gb4{color:#dd8e27 !import'\n",
      " b'ant}.gbf .gb4{color:#900 !important}\\n</style><style>body,td,a,p,.h{font-'\n",
      " b'family:arial,sans-serif}body{margin:0;overflow-y:scroll}#gog{padding:3px 8px'\n",
      " b' 0}td{line-height:.8em}.gac_m td{line-height:17px}form{margin-bottom:20px}.h'\n",
      " b'{color:#1558d6}em{font-weight:bold;font-style:normal}.lst{height:25px;width:'\n",
      " b'496px}.gsfi,.lst{font:18px arial,sans-serif}.gsfs{font:17px arial,sans-serif'\n",
      " b'}.ds{display:inline-box;display:inline-block;margin:3px 0 4px;margin-left:4p'\n",
      " b'x}input{font-family:inherit}body{background:#fff;color:#000}a{color:#4b11a8;'\n",
      " b'text-decoration:none}a:hover,a:active{text-decoration:underline}.fl a{color:'\n",
      " b'#1558d6}a:visited{color:#4b11a8}.sblc{padding-top:5px}.sblc a{display:block;'\n",
      " b'margin:2px 0;margin-left:13px;font-size:11px}.lsbb{background:#f8f9fa;border'\n",
      " b':solid 1px;border-color:#dadce0 #70757a #70757a #dadce0;height:30px}.lsbb{di'\n",
      " b'splay:block}#WqQANb a{display:inline-block;margin:0 12px}.lsb{background:url'\n",
      " b'(/images/nav_logo229.png) 0 -261px repeat-x;border:none;color:#000;cursor:po'\n",
      " b'inter;height:30px;margin:0;outline:0;font:15px arial,sans-serif;vertical-ali'\n",
      " b'gn:top}.lsb:active{background:#dadce0}.lst:focus{outline:none}</style><scrip'\n",
      " b't nonce=\"TmNFghhkITZYpg+eVIwj5w==\"></script></head><body bgcolor=\"#fff\"><scr'\n",
      " b'ipt nonce=\"TmNFghhkITZYpg+eVIwj5w==\">(function(){var src=\\'/images/nav_lo'\n",
      " b\"go229.png';var iesg=false;document.body.onload = function(){window.n && wind\"\n",
      " b'ow.n();if (document.images){new Image().src=src;}\\nif (!iesg){document.f&'\n",
      " b'&document.f.q.focus();document.gbqf&&document.gbqf.q.focus();}\\n}\\n})();</'\n",
      " b'script><div id=\"mngb\"><div id=gbar><nobr><b class=gb1>Search</b> <a class=gb'\n",
      " b'1 href=\"https://www.google.com/imghp?hl=en&tab=wi\">Images</a> <a class=gb1 h'\n",
      " b'ref=\"https://maps.google.com/maps?hl=en&tab=wl\">Maps</a> <a class=gb1 href=\"'\n",
      " b'https://play.google.com/?hl=en&tab=w8\">Play</a> <a class=gb1 href=\"https://w'\n",
      " b'ww.youtube.com/?gl=US&tab=w1\">YouTube</a> <a class=gb1 href=\"https://news.go'\n",
      " b'ogle.com/?tab=wn\">News</a> <a class=gb1 href=\"https://mail.google.com/mail/?'\n",
      " b'tab=wm\">Gmail</a> <a class=gb1 href=\"https://drive.google.com/?tab=wo\">Drive'\n",
      " b'</a> <a class=gb1 style=\"text-decoration:none\" href=\"https://www.google.com/'\n",
      " b'intl/en/about/products?tab=wh\"><u>More</u> &raquo;</a></nobr></div><div id=g'\n",
      " b'user width=100%><nobr><span id=gbn class=gbi></span><span id=gbf class=gbf><'\n",
      " b'/span><span id=gbe></span><a href=\"http://www.google.com/history/optout?hl=e'\n",
      " b'n\" class=gb4>Web History</a> | <a  href=\"/preferences?hl=en\" class=gb4>Setti'\n",
      " b'ngs</a> | <a target=_top id=gb_70 href=\"https://accounts.google.com/ServiceL'\n",
      " b'ogin?hl=en&passive=true&continue=https://www.google.com/&ec=GAZAAQ\" class=gb'\n",
      " b'4>Sign in</a></nobr></div><div class=gbh style=left:0></div><div class=gbh s'\n",
      " b'tyle=right:0></div></div><center><br clear=\"all\" id=\"lgpd\"><div id=\"lga\"><im'\n",
      " b'g alt=\"Google\" height=\"92\" src=\"/images/branding/googlelogo/1x/googlelogo_wh'\n",
      " b'ite_background_color_272x92dp.png\" style=\"padding:28px 0 14px\" width=\"272\" i'\n",
      " b'd=\"hplogo\"><br><br></div><form action=\"/search\" name=\"f\"><table cellpadding='\n",
      " b'\"0\" cellspacing=\"0\"><tr valign=\"top\"><td width=\"25%\">&nbsp;</td><td align=\"c'\n",
      " b'enter\" nowrap=\"\"><input name=\"ie\" value=\"ISO-8859-1\" type=\"hidden\"><input va'\n",
      " b'lue=\"en\" name=\"hl\" type=\"hidden\"><input name=\"source\" type=\"hidden\" value=\"h'\n",
      " b'p\"><input name=\"biw\" type=\"hidden\"><input name=\"bih\" type=\"hidden\"><div clas'\n",
      " b's=\"ds\" style=\"height:32px;margin:4px 0\"><input class=\"lst\" style=\"margin:0;p'\n",
      " b'adding:5px 8px 0 6px;vertical-align:top;color:#000\" autocomplete=\"off\" value'\n",
      " b'=\"\" title=\"Google Search\" maxlength=\"2048\" name=\"q\" size=\"57\"></div><br styl'\n",
      " b'e=\"line-height:0\"><span class=\"ds\"><span class=\"lsbb\"><input class=\"lsb\" val'\n",
      " b'ue=\"Google Search\" name=\"btnG\" type=\"submit\"></span></span><span class=\"ds\">'\n",
      " b'<span class=\"lsbb\"><input class=\"lsb\" id=\"tsuid1\" value=\"I\\'m Feeling Luc'\n",
      " b'ky\" name=\"btnI\" type=\"submit\"><script nonce=\"TmNFghhkITZYpg+eVIwj5w==\">(func'\n",
      " b\"tion(){var id='tsuid1';document.getElementById(id).onclick = function(){if (\"\n",
      " b'this.form.q.value){this.checked = 1;if (this.form.iflsig)this.form.iflsig.di'\n",
      " b\"sabled = false;}\\nelse top.location='/doodles/';};})();</script><input va\"\n",
      " b'lue=\"AINFCbYAAAAAYEop5ob3txoyVN6GJ-T4WL3QTdaR1J-O\" name=\"iflsig\" type=\"hidde'\n",
      " b'n\"></span></span></td><td class=\"fl sblc\" align=\"left\" nowrap=\"\" width=\"25%\"'\n",
      " b'><a href=\"/advanced_search?hl=en&amp;authuser=0\">Advanced search</a></td></t'\n",
      " b'r></table><input id=\"gbv\" name=\"gbv\" type=\"hidden\" value=\"1\"><script nonce=\"'\n",
      " b'TmNFghhkITZYpg+eVIwj5w==\">(function(){var a,b=\"1\";if(document&&document.getE'\n",
      " b'lementById)if(\"undefined\"!=typeof XMLHttpRequest)b=\"2\";else if(\"undefined\"!='\n",
      " b'typeof ActiveXObject){var c,d,e=[\"MSXML2.XMLHTTP.6.0\",\"MSXML2.XMLHTTP.3.0\",\"'\n",
      " b'MSXML2.XMLHTTP\",\"Microsoft.XMLHTTP\"];for(c=0;d=e[c++];)try{new ActiveXObject'\n",
      " b'(d),b=\"2\"}catch(h){}}a=b;if(\"2\"==a&&-1==location.search.indexOf(\"&gbv=2\")){v'\n",
      " b'ar f=google.gbvu,g=document.getElementById(\"gbv\");g&&(g.value=a);f&&window.s'\n",
      " b'etTimeout(function(){location.href=f},0)};}).call(this);</script></form><div'\n",
      " b' id=\"gac_scont\"></div><div style=\"font-size:83%;min-height:3.5em\"><br></div>'\n",
      " b'<span id=\"footer\"><div style=\"font-size:10pt\"><div style=\"margin:19px auto;t'\n",
      " b'ext-align:center\" id=\"WqQANb\"><a href=\"/intl/en/ads/\">Advertising\\xa0Progra'\n",
      " b'ms</a><a href=\"/services/\">Business Solutions</a><a href=\"/intl/en/about.htm'\n",
      " b'l\">About Google</a></div></div><p style=\"font-size:8pt;color:#70757a\">&copy;'\n",
      " b' 2021 - <a href=\"/intl/en/policies/privacy/\">Privacy</a> - <a href=\"/intl/en'\n",
      " b'/policies/terms/\">Terms</a></p></span></center><script nonce=\"TmNFghhkITZYpg'\n",
      " b'+eVIwj5w==\">(function(){window.google.cdo={height:0,width:0};(function(){var'\n",
      " b' a=window.innerWidth,b=window.innerHeight;if(!a||!b){var c=window.document,d'\n",
      " b'=\"CSS1Compat\"==c.compatMode?c.documentElement:c.body;a=d.clientWidth;b=d.cli'\n",
      " b'entHeight}a&&b&&(a!=google.cdo.width||b!=google.cdo.height)&&google.log(\"\",\"'\n",
      " b'\",\"/client_204?&atyp=i&biw=\"+a+\"&bih=\"+b+\"&ei=\"+google.kEI);}).call(this);})'\n",
      " b\"();(function(){var u='/xjs/_/js/k\\\\x3dxjs.hp.en_US.B2PpqPQ-qy4.O/m\\\\x3dsb_\"\n",
      " b\"he,d/am\\\\x3dAHiCOA/d\\\\x3d1/rs\\\\x3dACT90oEFA2gtzCKUGPfvnw_jNaNYwAafVQ';\\nvar \"\n",
      " b'd=this||self,e=/^[\\\\w+/_-]+[=]{0,2}$/,f=null,g=function(a){return(a=a.que'\n",
      " b'rySelector&&a.querySelector(\"script[nonce]\"))&&(a=a.nonce||a.getAttribute(\"n'\n",
      " b'once\"))&&e.test(a)?a:\"\"},h=function(a){return a};var l;var n=function(a,b){t'\n",
      " b'his.g=b===m?a:\"\"};n.prototype.toString=function(){return this.g+\"\"};var m={}'\n",
      " b';function p(){var a=u;google.lx=function(){q(a);google.lx=function(){}};goog'\n",
      " b'le.bx||google.lx()}\\nfunction q(a){var b=document;var c=\"SCRIPT\";\"applica'\n",
      " b'tion/xhtml+xml\"===b.contentType&&(c=c.toLowerCase());c=b.createElement(c);if'\n",
      " b'(void 0===l){b=null;var k=d.trustedTypes;if(k&&k.createPolicy){try{b=k.creat'\n",
      " b'ePolicy(\"goog#html\",{createHTML:h,createScript:h,createScriptURL:h})}catch(r'\n",
      " b'){d.console&&d.console.error(r.message)}l=b}else l=b}a=(b=l)?b.createScriptU'\n",
      " b'RL(a):a;a=new n(a,m);c.src=a instanceof n&&a.constructor===n?a.g:\"type_error'\n",
      " b':TrustedResourceUrl\";(a=c.ownerDocument&&c.ownerDocument.defaultView)&&\\n'\n",
      " b'a!=d?a=g(a.document):(null===f&&(f=g(d.document)),a=f);a&&c.setAttribute(\"no'\n",
      " b'nce\",a);google.timers&&google.timers.load&&google.tick&&google.tick(\"load\",\"'\n",
      " b'xjsls\");document.body.appendChild(c)};setTimeout(function(){p()},0);})();(fu'\n",
      " b\"nction(){window.google.xjsu='/xjs/_/js/k\\\\x3dxjs.hp.en_US.B2PpqPQ-qy4.O/m\"\n",
      " b'\\\\x3dsb_he,d/am\\\\x3dAHiCOA/d\\\\x3d1/rs\\\\x3dACT90oEFA2gtzCKUGPfvnw_jNaNYwAafVQ'\n",
      " b\"';})();function _DumpException(e){throw e;}\\nfunction _F_installCss(c){}\\n\"\n",
      " b\"(function(){google.jl={blt:'none',dw:false,em:[],emw:false,lls:'default',pdt\"\n",
      " b\":0,snet:true,uwp:true};})();(function(){var pmc='{\\\\x22d\\\\x22:{},\\\\x22sb_he\"\n",
      " b'\\\\x22:{\\\\x22agen\\\\x22:true,\\\\x22cgen\\\\x22:true,\\\\x22client\\\\x22:\\\\x22heirloo'\n",
      " b'm-hp\\\\x22,\\\\x22dh\\\\x22:true,\\\\x22dhqt\\\\x22:true,\\\\x22ds\\\\x22:\\\\x22\\\\x22,\\\\'\n",
      " b'x22ffql\\\\x22:\\\\x22en\\\\x22,\\\\x22fl\\\\x22:true,\\\\x22host\\\\x22:\\\\x22google.c'\n",
      " b'om\\\\x22,\\\\x22isbh\\\\x22:28,\\\\x22jsonp\\\\x22:true,\\\\x22msgs\\\\x22:{\\\\x22cibl'\n",
      " b'\\\\x22:\\\\x22Clear Search\\\\x22,\\\\x22dym\\\\x22:\\\\x22Did you mean:\\\\x22,\\\\x22lcky'\n",
      " b'\\\\x22:\\\\x22I\\\\\\\\u0026#39;m Feeling Lucky\\\\x22,\\\\x22lml\\\\x22:\\\\x22Learn m'\n",
      " b'ore\\\\x22,\\\\x22oskt\\\\x22:\\\\x22Input tools\\\\x22,\\\\x22psrc\\\\x22:\\\\x22This searc'\n",
      " b'h was removed from your \\\\\\\\u003Ca href\\\\x3d\\\\\\\\\\\\x22/history\\\\\\\\\\\\x22\\\\\\\\u'\n",
      " b'003EWeb History\\\\\\\\u003C/a\\\\\\\\u003E\\\\x22,\\\\x22psrl\\\\x22:\\\\x22Remove\\\\x22,'\n",
      " b'\\\\x22sbit\\\\x22:\\\\x22Search by image\\\\x22,\\\\x22srch\\\\x22:\\\\x22Google Search\\\\'\n",
      " b'x22},\\\\x22nrft\\\\x22:false,\\\\x22ovr\\\\x22:{},\\\\x22pq\\\\x22:\\\\x22\\\\x22,\\\\x22r'\n",
      " b'efpd\\\\x22:true,\\\\x22rfs\\\\x22:[],\\\\x22sbas\\\\x22:\\\\x220 3px 8px 0 rgba(0,0,0'\n",
      " b',0.2),0 0 0 1px rgba(0,0,0,0.08)\\\\x22,\\\\x22sbpl\\\\x22:16,\\\\x22sbpr\\\\x22:16'\n",
      " b',\\\\x22scd\\\\x22:10,\\\\x22stok\\\\x22:\\\\x22xLzDW2eOK8oTqXllKMlAcgRfRnI\\\\x22,\\\\x2'\n",
      " b\"2uhde\\\\x22:false}}';google.pmc=JSON.parse(pmc);})();</script>        </bo\"\n",
      " b'dy></html>')\n"
     ]
    }
   ],
   "source": [
    "resp,data = http.request(\"https://www.google.com\")\n",
    "pprint(data)"
   ]
  },
  {
   "cell_type": "code",
   "execution_count": 16,
   "id": "impressive-projector",
   "metadata": {
    "scrolled": true
   },
   "outputs": [
    {
     "name": "stdout",
     "output_type": "stream",
     "text": [
      "{'-content-encoding': 'gzip',\n",
      " 'alt-svc': 'h3-29=\":443\"; ma=2592000,h3-T051=\":443\"; '\n",
      "            'ma=2592000,h3-Q050=\":443\"; ma=2592000,h3-Q046=\":443\"; '\n",
      "            'ma=2592000,h3-Q043=\":443\"; ma=2592000,quic=\":443\"; ma=2592000; '\n",
      "            'v=\"46,43\"',\n",
      " 'cache-control': 'private, max-age=0',\n",
      " 'content-length': '12850',\n",
      " 'content-location': 'https://www.google.com',\n",
      " 'content-type': 'text/html; charset=ISO-8859-1',\n",
      " 'date': 'Thu, 11 Mar 2021 13:32:06 GMT',\n",
      " 'expires': '-1',\n",
      " 'p3p': 'CP=\"This is not a P3P policy! See g.co/p3phelp for more info.\"',\n",
      " 'server': 'gws',\n",
      " 'set-cookie': '1P_JAR=2021-03-11-13; expires=Sat, 10-Apr-2021 13:32:06 GMT; '\n",
      "               'path=/; domain=.google.com; Secure, '\n",
      "               'NID=211=oNsolelpexqealzW6nAPKucllnxvHg85t8KIkXJwLSs15bKN57I8jWB-UadoTjKW88bUN4VoxtRSrAeD5oK3h4VNU8a0CuTUA0VGg9L8mreMwuNVdhWhzcj4G7W2CKIOL2cB17kYsjWdeu16bTCagMmhYeEaRj0DGkV5Uve5A6s; '\n",
      "               'expires=Fri, 10-Sep-2021 13:32:06 GMT; path=/; '\n",
      "               'domain=.google.com; HttpOnly',\n",
      " 'status': '200',\n",
      " 'transfer-encoding': 'chunked',\n",
      " 'x-frame-options': 'SAMEORIGIN',\n",
      " 'x-xss-protection': '0'}\n"
     ]
    }
   ],
   "source": [
    "pprint(resp)"
   ]
  },
  {
   "cell_type": "code",
   "execution_count": 18,
   "id": "subjective-drink",
   "metadata": {
    "scrolled": true
   },
   "outputs": [
    {
     "name": "stdout",
     "output_type": "stream",
     "text": [
      "{'access-control-allow-credentials': 'true',\n",
      " 'access-control-allow-origin': '*',\n",
      " 'connection': 'keep-alive',\n",
      " 'content-length': '9593',\n",
      " 'content-location': 'https://httpbin.org/',\n",
      " 'content-type': 'text/html; charset=utf-8',\n",
      " 'date': 'Thu, 11 Mar 2021 13:41:59 GMT',\n",
      " 'server': 'gunicorn/19.9.0',\n",
      " 'status': '200'}\n"
     ]
    }
   ],
   "source": [
    "resp,data = http.request(bin_url, method='HEAD')\n",
    "pprint(resp)"
   ]
  },
  {
   "cell_type": "code",
   "execution_count": 25,
   "id": "complimentary-experiment",
   "metadata": {
    "scrolled": true
   },
   "outputs": [
    {
     "name": "stdout",
     "output_type": "stream",
     "text": [
      "{'access-control-allow-credentials': 'true',\n",
      " 'access-control-allow-methods': 'GET, POST, PUT, DELETE, PATCH, OPTIONS',\n",
      " 'access-control-allow-origin': '*',\n",
      " 'access-control-max-age': '3600',\n",
      " 'allow': 'HEAD, GET, OPTIONS',\n",
      " 'connection': 'keep-alive',\n",
      " 'content-length': '0',\n",
      " 'content-location': 'https://httpbin.org/',\n",
      " 'content-type': 'text/html; charset=utf-8',\n",
      " 'date': 'Thu, 11 Mar 2021 13:51:27 GMT',\n",
      " 'server': 'gunicorn/19.9.0',\n",
      " 'status': '200'}\n"
     ]
    }
   ],
   "source": [
    "resp,data = http.request(bin_url, method='OPTIONS')\n",
    "pprint(resp)"
   ]
  },
  {
   "cell_type": "code",
   "execution_count": 26,
   "id": "graphic-panama",
   "metadata": {
    "scrolled": true
   },
   "outputs": [
    {
     "name": "stdout",
     "output_type": "stream",
     "text": [
      "{'access-control-allow-credentials': 'true',\n",
      " 'access-control-allow-origin': '*',\n",
      " 'connection': 'keep-alive',\n",
      " 'content-length': '291',\n",
      " 'content-location': 'https://httpbin.org/get',\n",
      " 'content-type': 'application/json',\n",
      " 'date': 'Thu, 11 Mar 2021 13:51:30 GMT',\n",
      " 'server': 'gunicorn/19.9.0',\n",
      " 'status': '200'}\n"
     ]
    }
   ],
   "source": [
    "resp,data = http.request('https://httpbin.org/get', method='GET')\n",
    "pprint(resp)"
   ]
  },
  {
   "cell_type": "code",
   "execution_count": 30,
   "id": "frank-league",
   "metadata": {},
   "outputs": [],
   "source": [
    "post_data = '{\"name\": \"Chisom\", \"city\": \"Harrison\"}'"
   ]
  },
  {
   "cell_type": "code",
   "execution_count": 33,
   "id": "ignored-property",
   "metadata": {},
   "outputs": [
    {
     "name": "stdout",
     "output_type": "stream",
     "text": [
      "{'access-control-allow-credentials': 'true',\n",
      " 'access-control-allow-origin': '*',\n",
      " 'connection': 'keep-alive',\n",
      " 'content-length': '518',\n",
      " 'content-type': 'application/json',\n",
      " 'date': 'Thu, 18 Mar 2021 11:34:45 GMT',\n",
      " 'server': 'gunicorn/19.9.0',\n",
      " 'status': '200'}\n"
     ]
    }
   ],
   "source": [
    "resp,data = http.request('https://httpbin.org/post', \n",
    "                        method = 'POST', \n",
    "                        body = post_data,\n",
    "                        headers = {'content-type':'application/json'})\n",
    "pprint(resp)"
   ]
  },
  {
   "cell_type": "code",
   "execution_count": 32,
   "id": "authentic-hometown",
   "metadata": {},
   "outputs": [
    {
     "name": "stdout",
     "output_type": "stream",
     "text": [
      "('{\\n'\n",
      " '  \"args\": {}, \\n'\n",
      " '  \"data\": \"{\\\\\"name\\\\\": \\\\\"Chisom\\\\\", \\\\\"city\\\\\": \\\\\"Harrison\\\\\"}\", \\n'\n",
      " '  \"files\": {}, \\n'\n",
      " '  \"form\": {}, \\n'\n",
      " '  \"headers\": {\\n'\n",
      " '    \"Accept-Encoding\": \"gzip, deflate\", \\n'\n",
      " '    \"Content-Length\": \"38\", \\n'\n",
      " '    \"Content-Type\": \"application/json\", \\n'\n",
      " '    \"Host\": \"httpbin.org\", \\n'\n",
      " '    \"User-Agent\": \"Python-httplib2/0.19.0 (gzip)\", \\n'\n",
      " '    \"X-Amzn-Trace-Id\": \"Root=1-604a26bf-1a52a3c91b4edf3a3edd5b8b\"\\n'\n",
      " '  }, \\n'\n",
      " '  \"json\": {\\n'\n",
      " '    \"city\": \"Harrison\", \\n'\n",
      " '    \"name\": \"Chisom\"\\n'\n",
      " '  }, \\n'\n",
      " '  \"origin\": \"24.0.212.187\", \\n'\n",
      " '  \"url\": \"https://httpbin.org/post\"\\n'\n",
      " '}\\n')\n"
     ]
    }
   ],
   "source": [
    "pprint(data.decode('utf-8'))"
   ]
  },
  {
   "cell_type": "code",
   "execution_count": 34,
   "id": "advisory-rough",
   "metadata": {},
   "outputs": [
    {
     "data": {
      "text/plain": [
       "False"
      ]
     },
     "execution_count": 34,
     "metadata": {},
     "output_type": "execute_result"
    }
   ],
   "source": [
    "http.follow_all_redirects"
   ]
  },
  {
   "cell_type": "code",
   "execution_count": 35,
   "id": "premium-raleigh",
   "metadata": {},
   "outputs": [
    {
     "data": {
      "text/plain": [
       "True"
      ]
     },
     "execution_count": 35,
     "metadata": {},
     "output_type": "execute_result"
    }
   ],
   "source": [
    "http.follow_redirects"
   ]
  },
  {
   "cell_type": "code",
   "execution_count": 39,
   "id": "nutritional-credits",
   "metadata": {},
   "outputs": [
    {
     "name": "stdout",
     "output_type": "stream",
     "text": [
      "{'connection': 'keep-alive',\n",
      " 'content-length': '0',\n",
      " 'content-type': 'text/plain; charset=utf-8',\n",
      " 'date': 'Thu, 18 Mar 2021 11:52:16 GMT',\n",
      " 'server': 'awselb/2.0',\n",
      " 'status': '404'}\n"
     ]
    }
   ],
   "source": [
    "resp,data = http.request('https://httpbin.org/redirect-to?url=https://google.com&status_code=200', method = 'GET')\n",
    "pprint(resp)"
   ]
  },
  {
   "cell_type": "code",
   "execution_count": 38,
   "id": "spoken-louisville",
   "metadata": {},
   "outputs": [],
   "source": [
    "resp.previous"
   ]
  },
  {
   "cell_type": "code",
   "execution_count": null,
   "id": "informal-conclusion",
   "metadata": {},
   "outputs": [],
   "source": []
  },
  {
   "cell_type": "code",
   "execution_count": 19,
   "id": "mature-pencil",
   "metadata": {
    "scrolled": true
   },
   "outputs": [
    {
     "name": "stdout",
     "output_type": "stream",
     "text": [
      "{'access-control-allow-credentials': 'true',\n",
      " 'access-control-allow-methods': 'GET, POST, PUT, DELETE, PATCH, OPTIONS',\n",
      " 'access-control-allow-origin': '*',\n",
      " 'access-control-max-age': '3600',\n",
      " 'allow': 'HEAD, OPTIONS, GET',\n",
      " 'connection': 'keep-alive',\n",
      " 'content-length': '0',\n",
      " 'content-location': 'https://httpbin.org/',\n",
      " 'content-type': 'text/html; charset=utf-8',\n",
      " 'date': 'Thu, 11 Mar 2021 13:42:37 GMT',\n",
      " 'server': 'gunicorn/19.9.0',\n",
      " 'status': '200'}\n"
     ]
    }
   ],
   "source": [
    "resp,data = http.request(bin_url, method='OPTIONS')\n",
    "pprint(resp)"
   ]
  },
  {
   "cell_type": "code",
   "execution_count": null,
   "id": "capital-helmet",
   "metadata": {},
   "outputs": [],
   "source": []
  },
  {
   "cell_type": "code",
   "execution_count": null,
   "id": "failing-designation",
   "metadata": {},
   "outputs": [],
   "source": []
  },
  {
   "cell_type": "code",
   "execution_count": null,
   "id": "common-jason",
   "metadata": {},
   "outputs": [],
   "source": []
  },
  {
   "cell_type": "code",
   "execution_count": null,
   "id": "lyric-cardiff",
   "metadata": {},
   "outputs": [],
   "source": []
  },
  {
   "cell_type": "code",
   "execution_count": null,
   "id": "considerable-flash",
   "metadata": {},
   "outputs": [],
   "source": []
  },
  {
   "cell_type": "code",
   "execution_count": null,
   "id": "electrical-reader",
   "metadata": {},
   "outputs": [],
   "source": []
  },
  {
   "cell_type": "code",
   "execution_count": null,
   "id": "short-housing",
   "metadata": {},
   "outputs": [],
   "source": []
  },
  {
   "cell_type": "code",
   "execution_count": null,
   "id": "turkish-glucose",
   "metadata": {},
   "outputs": [],
   "source": []
  },
  {
   "cell_type": "code",
   "execution_count": null,
   "id": "numerous-hepatitis",
   "metadata": {},
   "outputs": [],
   "source": []
  }
 ],
 "metadata": {
  "kernelspec": {
   "display_name": "Python 3",
   "language": "python",
   "name": "python3"
  },
  "language_info": {
   "codemirror_mode": {
    "name": "ipython",
    "version": 3
   },
   "file_extension": ".py",
   "mimetype": "text/x-python",
   "name": "python",
   "nbconvert_exporter": "python",
   "pygments_lexer": "ipython3",
   "version": "3.9.1"
  }
 },
 "nbformat": 4,
 "nbformat_minor": 5
}
