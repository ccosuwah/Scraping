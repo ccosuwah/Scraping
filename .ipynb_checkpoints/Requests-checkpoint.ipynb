{
 "cells": [
  {
   "cell_type": "code",
   "execution_count": 1,
   "id": "accessory-wyoming",
   "metadata": {},
   "outputs": [
    {
     "name": "stdout",
     "output_type": "stream",
     "text": [
      "Requirement already satisfied: requests in c:\\users\\chisom\\anaconda3\\envs\\scrape_env\\lib\\site-packages (2.25.1)\n",
      "Requirement already satisfied: idna<3,>=2.5 in c:\\users\\chisom\\anaconda3\\envs\\scrape_env\\lib\\site-packages (from requests) (2.10)\n",
      "Requirement already satisfied: chardet<5,>=3.0.2 in c:\\users\\chisom\\anaconda3\\envs\\scrape_env\\lib\\site-packages (from requests) (4.0.0)\n",
      "Requirement already satisfied: certifi>=2017.4.17 in c:\\users\\chisom\\anaconda3\\envs\\scrape_env\\lib\\site-packages (from requests) (2020.12.5)\n",
      "Requirement already satisfied: urllib3<1.27,>=1.21.1 in c:\\users\\chisom\\anaconda3\\envs\\scrape_env\\lib\\site-packages (from requests) (1.26.4)\n"
     ]
    }
   ],
   "source": [
    "!pip install requests --upgrade\n"
   ]
  },
  {
   "cell_type": "code",
   "execution_count": 2,
   "id": "amino-discretion",
   "metadata": {},
   "outputs": [],
   "source": [
    "import requests\n",
    "import json\n",
    "from pprint import pprint\n",
    "import webbrowser"
   ]
  },
  {
   "cell_type": "code",
   "execution_count": 3,
   "id": "entertaining-royalty",
   "metadata": {},
   "outputs": [
    {
     "data": {
      "text/plain": [
       "'2.25.1'"
      ]
     },
     "execution_count": 3,
     "metadata": {},
     "output_type": "execute_result"
    }
   ],
   "source": [
    "requests.__version__"
   ]
  },
  {
   "cell_type": "code",
   "execution_count": 4,
   "id": "improving-wallet",
   "metadata": {},
   "outputs": [
    {
     "name": "stdout",
     "output_type": "stream",
     "text": [
      "<Response [200]>\n"
     ]
    },
    {
     "data": {
      "text/plain": [
       "requests.models.Response"
      ]
     },
     "execution_count": 4,
     "metadata": {},
     "output_type": "execute_result"
    }
   ],
   "source": [
    "resp = requests.get(\"https://jsonplaceholder.typicode.com/posts/5\")\n",
    "print(resp) \n",
    "type(resp)"
   ]
  },
  {
   "cell_type": "code",
   "execution_count": 5,
   "id": "contained-yellow",
   "metadata": {},
   "outputs": [
    {
     "data": {
      "text/plain": [
       "200"
      ]
     },
     "execution_count": 5,
     "metadata": {},
     "output_type": "execute_result"
    }
   ],
   "source": [
    "resp.status_code"
   ]
  },
  {
   "cell_type": "code",
   "execution_count": 6,
   "id": "accessory-flight",
   "metadata": {},
   "outputs": [
    {
     "data": {
      "text/plain": [
       "{'Date': 'Thu, 25 Mar 2021 10:51:04 GMT', 'Content-Type': 'application/json; charset=utf-8', 'Transfer-Encoding': 'chunked', 'Connection': 'keep-alive', 'Set-Cookie': '__cfduid=d1899cba28e7402163331da26fa16b2a71616669464; expires=Sat, 24-Apr-21 10:51:04 GMT; path=/; domain=.typicode.com; HttpOnly; SameSite=Lax', 'X-Powered-By': 'Express', 'X-Ratelimit-Limit': '1000', 'X-Ratelimit-Remaining': '999', 'X-Ratelimit-Reset': '1615049551', 'Vary': 'Origin, Accept-Encoding', 'Access-Control-Allow-Credentials': 'true', 'Cache-Control': 'max-age=43200', 'Pragma': 'no-cache', 'Expires': '-1', 'X-Content-Type-Options': 'nosniff', 'Etag': 'W/\"e1-IivojO0CtPZmcMK0iydTbsfG7Wc\"', 'Via': '1.1 vegur', 'CF-Cache-Status': 'HIT', 'Age': '2877', 'cf-request-id': '090a9b6ec1000015d34fb22000000001', 'Expect-CT': 'max-age=604800, report-uri=\"https://report-uri.cloudflare.com/cdn-cgi/beacon/expect-ct\"', 'Report-To': '{\"group\":\"cf-nel\",\"endpoints\":[{\"url\":\"https:\\\\/\\\\/a.nel.cloudflare.com\\\\/report?s=7WuL1Q2pAagtOC9jmKGKbAJeDxVMGZhFze4cOaHDhazLDTokoCxySExkQLxjDCpZmpSOnQOmHmdxLN2m5p%2BlyPxPnwsD8UJIBoRn6oqUi723yOA3xms9znjl8vS5\"}],\"max_age\":604800}', 'NEL': '{\"report_to\":\"cf-nel\",\"max_age\":604800}', 'Server': 'cloudflare', 'CF-RAY': '635794f79a6415d3-EWR', 'Content-Encoding': 'gzip', 'alt-svc': 'h3-27=\":443\"; ma=86400, h3-28=\":443\"; ma=86400, h3-29=\":443\"; ma=86400'}"
      ]
     },
     "execution_count": 6,
     "metadata": {},
     "output_type": "execute_result"
    }
   ],
   "source": [
    "resp.headers"
   ]
  },
  {
   "cell_type": "code",
   "execution_count": 7,
   "id": "referenced-realtor",
   "metadata": {},
   "outputs": [
    {
     "name": "stdout",
     "output_type": "stream",
     "text": [
      "{\n",
      "  \"userId\": 1,\n",
      "  \"id\": 5,\n",
      "  \"title\": \"nesciunt quas odio\",\n",
      "  \"body\": \"repudiandae veniam quaerat sunt sed\\nalias aut fugiat sit autem sed est\\nvoluptatem omnis possimus esse voluptatibus quis\\nest aut tenetur dolor neque\"\n",
      "}\n",
      "('{\\n'\n",
      " '  \"userId\": 1,\\n'\n",
      " '  \"id\": 5,\\n'\n",
      " '  \"title\": \"nesciunt quas odio\",\\n'\n",
      " '  \"body\": \"repudiandae veniam quaerat sunt sed\\\\nalias aut fugiat sit autem '\n",
      " 'sed est\\\\nvoluptatem omnis possimus esse voluptatibus quis\\\\nest aut tenetur '\n",
      " 'dolor neque\"\\n'\n",
      " '}')\n"
     ]
    }
   ],
   "source": [
    "data = resp.text\n",
    "print(data)\n",
    "pprint(data)"
   ]
  },
  {
   "cell_type": "code",
   "execution_count": 8,
   "id": "anonymous-leadership",
   "metadata": {},
   "outputs": [
    {
     "name": "stdout",
     "output_type": "stream",
     "text": [
      "{'body': 'repudiandae veniam quaerat sunt sed\\n'\n",
      "         'alias aut fugiat sit autem sed est\\n'\n",
      "         'voluptatem omnis possimus esse voluptatibus quis\\n'\n",
      "         'est aut tenetur dolor neque',\n",
      " 'id': 5,\n",
      " 'title': 'nesciunt quas odio',\n",
      " 'userId': 1}\n"
     ]
    }
   ],
   "source": [
    "pprint(json.loads(resp.text))"
   ]
  },
  {
   "cell_type": "code",
   "execution_count": 9,
   "id": "naughty-store",
   "metadata": {},
   "outputs": [],
   "source": [
    "wiki_url = 'https://en.wikipedia.org/wiki/Special:Search'"
   ]
  },
  {
   "cell_type": "code",
   "execution_count": 10,
   "id": "mysterious-persian",
   "metadata": {},
   "outputs": [
    {
     "data": {
      "text/plain": [
       "True"
      ]
     },
     "execution_count": 10,
     "metadata": {},
     "output_type": "execute_result"
    }
   ],
   "source": [
    "webbrowser.open(wiki_url)"
   ]
  },
  {
   "cell_type": "code",
   "execution_count": 11,
   "id": "aerial-revision",
   "metadata": {},
   "outputs": [],
   "source": [
    "query = {'search':'zeek'}\n",
    "wiki_resp = requests.get(url=wiki_url,\n",
    "                        params=query)"
   ]
  },
  {
   "cell_type": "code",
   "execution_count": 12,
   "id": "traditional-audit",
   "metadata": {},
   "outputs": [
    {
     "data": {
      "text/plain": [
       "<Response [200]>"
      ]
     },
     "execution_count": 12,
     "metadata": {},
     "output_type": "execute_result"
    }
   ],
   "source": [
    "wiki_resp"
   ]
  },
  {
   "cell_type": "code",
   "execution_count": 13,
   "id": "insured-atlas",
   "metadata": {},
   "outputs": [],
   "source": [
    "get = requests.get\n",
    "open = webbrowser.open"
   ]
  },
  {
   "cell_type": "code",
   "execution_count": 14,
   "id": "published-aurora",
   "metadata": {},
   "outputs": [
    {
     "data": {
      "text/plain": [
       "'https://en.wikipedia.org/wiki/Zeek'"
      ]
     },
     "execution_count": 14,
     "metadata": {},
     "output_type": "execute_result"
    }
   ],
   "source": [
    "wiki_resp.url\n"
   ]
  },
  {
   "cell_type": "code",
   "execution_count": 15,
   "id": "killing-cedar",
   "metadata": {},
   "outputs": [
    {
     "data": {
      "text/plain": [
       "True"
      ]
     },
     "execution_count": 15,
     "metadata": {},
     "output_type": "execute_result"
    }
   ],
   "source": [
    "open(wiki_resp.url)"
   ]
  },
  {
   "cell_type": "code",
   "execution_count": 16,
   "id": "general-extraction",
   "metadata": {},
   "outputs": [],
   "source": [
    "post_data = {\n",
    "    'title':'Mister',\n",
    "    'body':'This is the body of the post data which is made up of random text',\n",
    "    'userId': 27\n",
    "}"
   ]
  },
  {
   "cell_type": "code",
   "execution_count": 17,
   "id": "accepting-participation",
   "metadata": {},
   "outputs": [],
   "source": [
    "resp = requests.post('https://jsonplaceholder.typicode.com/posts', data=post_data)"
   ]
  },
  {
   "cell_type": "code",
   "execution_count": 18,
   "id": "integrated-cinema",
   "metadata": {},
   "outputs": [
    {
     "data": {
      "text/plain": [
       "<Response [201]>"
      ]
     },
     "execution_count": 18,
     "metadata": {},
     "output_type": "execute_result"
    }
   ],
   "source": [
    "resp"
   ]
  },
  {
   "cell_type": "code",
   "execution_count": 19,
   "id": "executive-military",
   "metadata": {},
   "outputs": [
    {
     "data": {
      "text/plain": [
       "{'title': 'Mister',\n",
       " 'body': 'This is the body of the post data which is made up of random text',\n",
       " 'userId': '27',\n",
       " 'id': 101}"
      ]
     },
     "execution_count": 19,
     "metadata": {},
     "output_type": "execute_result"
    }
   ],
   "source": [
    "json.loads(resp.text)"
   ]
  },
  {
   "cell_type": "code",
   "execution_count": 20,
   "id": "appropriate-contents",
   "metadata": {},
   "outputs": [],
   "source": [
    "rd_resp = requests.get('https://httpbingo.org/absolute-redirect/5')"
   ]
  },
  {
   "cell_type": "code",
   "execution_count": 21,
   "id": "funky-shopping",
   "metadata": {},
   "outputs": [
    {
     "data": {
      "text/plain": [
       "<Response [200]>"
      ]
     },
     "execution_count": 21,
     "metadata": {},
     "output_type": "execute_result"
    }
   ],
   "source": [
    "rd_resp"
   ]
  },
  {
   "cell_type": "code",
   "execution_count": 22,
   "id": "opponent-genome",
   "metadata": {},
   "outputs": [
    {
     "data": {
      "text/plain": [
       "[<Response [302]>,\n",
       " <Response [302]>,\n",
       " <Response [302]>,\n",
       " <Response [302]>,\n",
       " <Response [302]>]"
      ]
     },
     "execution_count": 22,
     "metadata": {},
     "output_type": "execute_result"
    }
   ],
   "source": [
    "rd_resp.history"
   ]
  },
  {
   "cell_type": "code",
   "execution_count": 23,
   "id": "oriental-copper",
   "metadata": {},
   "outputs": [
    {
     "data": {
      "text/plain": [
       "201"
      ]
     },
     "execution_count": 23,
     "metadata": {},
     "output_type": "execute_result"
    }
   ],
   "source": [
    "resp.status_code"
   ]
  },
  {
   "cell_type": "raw",
   "id": "centered-nashville",
   "metadata": {},
   "source": []
  },
  {
   "cell_type": "code",
   "execution_count": null,
   "id": "accomplished-witch",
   "metadata": {},
   "outputs": [],
   "source": []
  },
  {
   "cell_type": "code",
   "execution_count": null,
   "id": "welcome-interstate",
   "metadata": {},
   "outputs": [],
   "source": []
  },
  {
   "cell_type": "code",
   "execution_count": null,
   "id": "nearby-glance",
   "metadata": {},
   "outputs": [],
   "source": []
  },
  {
   "cell_type": "code",
   "execution_count": null,
   "id": "alien-lending",
   "metadata": {},
   "outputs": [],
   "source": []
  },
  {
   "cell_type": "code",
   "execution_count": null,
   "id": "hungry-korean",
   "metadata": {},
   "outputs": [],
   "source": []
  },
  {
   "cell_type": "code",
   "execution_count": null,
   "id": "described-sarah",
   "metadata": {},
   "outputs": [],
   "source": []
  },
  {
   "cell_type": "code",
   "execution_count": null,
   "id": "hungry-chapel",
   "metadata": {},
   "outputs": [],
   "source": []
  }
 ],
 "metadata": {
  "kernelspec": {
   "display_name": "Python 3",
   "language": "python",
   "name": "python3"
  },
  "language_info": {
   "codemirror_mode": {
    "name": "ipython",
    "version": 3
   },
   "file_extension": ".py",
   "mimetype": "text/x-python",
   "name": "python",
   "nbconvert_exporter": "python",
   "pygments_lexer": "ipython3",
   "version": "3.9.1"
  }
 },
 "nbformat": 4,
 "nbformat_minor": 5
}
