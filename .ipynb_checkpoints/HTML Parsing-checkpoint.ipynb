{
 "cells": [
  {
   "cell_type": "code",
   "execution_count": 8,
   "id": "federal-potter",
   "metadata": {},
   "outputs": [
    {
     "name": "stdout",
     "output_type": "stream",
     "text": [
      "Name: beautifulsoup4\n",
      "Version: 4.9.3\n",
      "Summary: Screen-scraping library\n",
      "Home-page: http://www.crummy.com/software/BeautifulSoup/bs4/\n",
      "Author: Leonard Richardson\n",
      "Author-email: leonardr@segfault.org\n",
      "License: MIT\n",
      "Location: c:\\users\\chisom\\anaconda3\\envs\\scrape_env\\lib\\site-packages\n",
      "Requires: soupsieve\n",
      "Required-by: bs4\n"
     ]
    }
   ],
   "source": [
    "! pip show beautifulsoup4"
   ]
  },
  {
   "cell_type": "code",
   "execution_count": 9,
   "id": "productive-consent",
   "metadata": {},
   "outputs": [
    {
     "name": "stdout",
     "output_type": "stream",
     "text": [
      "Collecting lxml\n",
      "  Downloading lxml-4.6.3-cp39-cp39-win_amd64.whl (3.5 MB)\n",
      "Installing collected packages: lxml\n",
      "Successfully installed lxml-4.6.3\n"
     ]
    }
   ],
   "source": [
    "! pip install lxml"
   ]
  },
  {
   "cell_type": "code",
   "execution_count": 10,
   "id": "judicial-olympus",
   "metadata": {},
   "outputs": [
    {
     "name": "stdout",
     "output_type": "stream",
     "text": [
      "Collecting html5lib\n",
      "  Downloading html5lib-1.1-py2.py3-none-any.whl (112 kB)\n",
      "Requirement already satisfied: six>=1.9 in c:\\users\\chisom\\anaconda3\\envs\\scrape_env\\lib\\site-packages (from html5lib) (1.15.0)\n",
      "Requirement already satisfied: webencodings in c:\\users\\chisom\\anaconda3\\envs\\scrape_env\\lib\\site-packages (from html5lib) (0.5.1)\n",
      "Installing collected packages: html5lib\n",
      "Successfully installed html5lib-1.1\n"
     ]
    }
   ],
   "source": [
    "! pip install html5lib"
   ]
  },
  {
   "cell_type": "code",
   "execution_count": 13,
   "id": "occasional-ozone",
   "metadata": {},
   "outputs": [],
   "source": [
    "import requests\n",
    "import json\n",
    "from pprint import pprint\n",
    "import webbrowser\n",
    "from bs4 import BeautifulSoup as bs"
   ]
  },
  {
   "cell_type": "code",
   "execution_count": 12,
   "id": "exposed-radiation",
   "metadata": {},
   "outputs": [],
   "source": [
    "example_html = \"\"\"\n",
    "<!DOCTYPE html>\n",
    "<head>\n",
    "    <title>Car Buying Web Page</title>\n",
    "    <link rel=\"stylesheet\" type=\"text/css\" href=\"example.css\">\n",
    "</head>\n",
    "<body>\n",
    "<h1 id=\"main-page-title\">Used Tesla Cars in Your Area</h1>\n",
    "\n",
    "<ul class=\"listings\">\n",
    "    <li id=\"vin3827\" class=\"auto-listing\">\n",
    "        <div>\n",
    "            <h2 class=\"model\">2017 Tesla Model 3</h2>\n",
    "            <p class=\"price\">$34,586</p>\n",
    "            <p class=\"description\">\n",
    "                A wonderful car and a great deal.</p>\n",
    "        </div>\n",
    "    </li>\n",
    "    <li id=\"vin9381\" class=\"auto-listing\">\n",
    "        <div>\n",
    "            <h2 class=\"model\">2019 Tesla Model 3</h2>\n",
    "            <p class=\"price\">$37,938</p>\n",
    "            <p class=\"description\">\n",
    "                Great deal. Low mileage.</p>\n",
    "        </div>\n",
    "    </li>\n",
    "    <li id=\"vin2938\" class=\"auto-listing\">\n",
    "        <div>\n",
    "            <h2 class=\"model\">2018 Tesla Model 3</h2>\n",
    "            <p class=\"price\">$36,263</p>\n",
    "            <p class=\"description\">\n",
    "                Bright red. Attract attention.</p>\n",
    "        </div>\n",
    "    </li>\n",
    "</ul>\n",
    "<div class=\"scratchpad\">\n",
    "    <textarea rows=\"2\" class=\"edit-box\"></textarea>\n",
    "</div>\n",
    "</body>\n",
    "</html>\n",
    "\"\"\""
   ]
  },
  {
   "cell_type": "code",
   "execution_count": 14,
   "id": "compatible-algeria",
   "metadata": {},
   "outputs": [],
   "source": [
    "soup = bs(example_html)"
   ]
  },
  {
   "cell_type": "code",
   "execution_count": 16,
   "id": "governing-video",
   "metadata": {},
   "outputs": [
    {
     "name": "stdout",
     "output_type": "stream",
     "text": [
      "<!DOCTYPE html>\n",
      "<html><head>\n",
      "<title>Car Buying Web Page</title>\n",
      "<link href=\"example.css\" rel=\"stylesheet\" type=\"text/css\"/>\n",
      "</head>\n",
      "<body>\n",
      "<h1 id=\"main-page-title\">Used Tesla Cars in Your Area</h1>\n",
      "<ul class=\"listings\">\n",
      "<li class=\"auto-listing\" id=\"vin3827\">\n",
      "<div>\n",
      "<h2 class=\"model\">2017 Tesla Model 3</h2>\n",
      "<p class=\"price\">$34,586</p>\n",
      "<p class=\"description\">\n",
      "                A wonderful car and a great deal.</p>\n",
      "</div>\n",
      "</li>\n",
      "<li class=\"auto-listing\" id=\"vin9381\">\n",
      "<div>\n",
      "<h2 class=\"model\">2019 Tesla Model 3</h2>\n",
      "<p class=\"price\">$37,938</p>\n",
      "<p class=\"description\">\n",
      "                Great deal. Low mileage.</p>\n",
      "</div>\n",
      "</li>\n",
      "<li class=\"auto-listing\" id=\"vin2938\">\n",
      "<div>\n",
      "<h2 class=\"model\">2018 Tesla Model 3</h2>\n",
      "<p class=\"price\">$36,263</p>\n",
      "<p class=\"description\">\n",
      "                Bright red. Attract attention.</p>\n",
      "</div>\n",
      "</li>\n",
      "</ul>\n",
      "<div class=\"scratchpad\">\n",
      "<textarea class=\"edit-box\" rows=\"2\"></textarea>\n",
      "</div>\n",
      "</body>\n",
      "</html>\n",
      "\n"
     ]
    }
   ],
   "source": [
    "print(soup)\n"
   ]
  },
  {
   "cell_type": "code",
   "execution_count": 17,
   "id": "twenty-december",
   "metadata": {},
   "outputs": [
    {
     "name": "stdout",
     "output_type": "stream",
     "text": [
      "<!DOCTYPE html>\n",
      "<html>\n",
      " <head>\n",
      "  <title>\n",
      "   Car Buying Web Page\n",
      "  </title>\n",
      "  <link href=\"example.css\" rel=\"stylesheet\" type=\"text/css\"/>\n",
      " </head>\n",
      " <body>\n",
      "  <h1 id=\"main-page-title\">\n",
      "   Used Tesla Cars in Your Area\n",
      "  </h1>\n",
      "  <ul class=\"listings\">\n",
      "   <li class=\"auto-listing\" id=\"vin3827\">\n",
      "    <div>\n",
      "     <h2 class=\"model\">\n",
      "      2017 Tesla Model 3\n",
      "     </h2>\n",
      "     <p class=\"price\">\n",
      "      $34,586\n",
      "     </p>\n",
      "     <p class=\"description\">\n",
      "      A wonderful car and a great deal.\n",
      "     </p>\n",
      "    </div>\n",
      "   </li>\n",
      "   <li class=\"auto-listing\" id=\"vin9381\">\n",
      "    <div>\n",
      "     <h2 class=\"model\">\n",
      "      2019 Tesla Model 3\n",
      "     </h2>\n",
      "     <p class=\"price\">\n",
      "      $37,938\n",
      "     </p>\n",
      "     <p class=\"description\">\n",
      "      Great deal. Low mileage.\n",
      "     </p>\n",
      "    </div>\n",
      "   </li>\n",
      "   <li class=\"auto-listing\" id=\"vin2938\">\n",
      "    <div>\n",
      "     <h2 class=\"model\">\n",
      "      2018 Tesla Model 3\n",
      "     </h2>\n",
      "     <p class=\"price\">\n",
      "      $36,263\n",
      "     </p>\n",
      "     <p class=\"description\">\n",
      "      Bright red. Attract attention.\n",
      "     </p>\n",
      "    </div>\n",
      "   </li>\n",
      "  </ul>\n",
      "  <div class=\"scratchpad\">\n",
      "   <textarea class=\"edit-box\" rows=\"2\"></textarea>\n",
      "  </div>\n",
      " </body>\n",
      "</html>\n",
      "\n"
     ]
    }
   ],
   "source": [
    "print(soup.prettify())"
   ]
  },
  {
   "cell_type": "code",
   "execution_count": 18,
   "id": "rolled-performance",
   "metadata": {},
   "outputs": [
    {
     "data": {
      "text/plain": [
       "<link href=\"example.css\" rel=\"stylesheet\" type=\"text/css\"/>"
      ]
     },
     "execution_count": 18,
     "metadata": {},
     "output_type": "execute_result"
    }
   ],
   "source": [
    "soup.link"
   ]
  },
  {
   "cell_type": "code",
   "execution_count": 19,
   "id": "elect-flooring",
   "metadata": {},
   "outputs": [
    {
     "data": {
      "text/plain": [
       "<title>Car Buying Web Page</title>"
      ]
     },
     "execution_count": 19,
     "metadata": {},
     "output_type": "execute_result"
    }
   ],
   "source": [
    "soup.title"
   ]
  },
  {
   "cell_type": "code",
   "execution_count": 20,
   "id": "english-bernard",
   "metadata": {},
   "outputs": [
    {
     "data": {
      "text/plain": [
       "<body>\n",
       "<h1 id=\"main-page-title\">Used Tesla Cars in Your Area</h1>\n",
       "<ul class=\"listings\">\n",
       "<li class=\"auto-listing\" id=\"vin3827\">\n",
       "<div>\n",
       "<h2 class=\"model\">2017 Tesla Model 3</h2>\n",
       "<p class=\"price\">$34,586</p>\n",
       "<p class=\"description\">\n",
       "                A wonderful car and a great deal.</p>\n",
       "</div>\n",
       "</li>\n",
       "<li class=\"auto-listing\" id=\"vin9381\">\n",
       "<div>\n",
       "<h2 class=\"model\">2019 Tesla Model 3</h2>\n",
       "<p class=\"price\">$37,938</p>\n",
       "<p class=\"description\">\n",
       "                Great deal. Low mileage.</p>\n",
       "</div>\n",
       "</li>\n",
       "<li class=\"auto-listing\" id=\"vin2938\">\n",
       "<div>\n",
       "<h2 class=\"model\">2018 Tesla Model 3</h2>\n",
       "<p class=\"price\">$36,263</p>\n",
       "<p class=\"description\">\n",
       "                Bright red. Attract attention.</p>\n",
       "</div>\n",
       "</li>\n",
       "</ul>\n",
       "<div class=\"scratchpad\">\n",
       "<textarea class=\"edit-box\" rows=\"2\"></textarea>\n",
       "</div>\n",
       "</body>"
      ]
     },
     "execution_count": 20,
     "metadata": {},
     "output_type": "execute_result"
    }
   ],
   "source": [
    "soup.body"
   ]
  },
  {
   "cell_type": "code",
   "execution_count": 21,
   "id": "loaded-phase",
   "metadata": {},
   "outputs": [
    {
     "data": {
      "text/plain": [
       "'html'"
      ]
     },
     "execution_count": 21,
     "metadata": {},
     "output_type": "execute_result"
    }
   ],
   "source": [
    "soup.body.parent.name"
   ]
  },
  {
   "cell_type": "code",
   "execution_count": 22,
   "id": "accessible-drove",
   "metadata": {},
   "outputs": [],
   "source": [
    "html = \"\"\"\n",
    "    <h1><a /><b><th <td>\n",
    "\"\"\""
   ]
  },
  {
   "cell_type": "code",
   "execution_count": null,
   "id": "metropolitan-nigeria",
   "metadata": {},
   "outputs": [],
   "source": []
  },
  {
   "cell_type": "code",
   "execution_count": null,
   "id": "rising-ranch",
   "metadata": {},
   "outputs": [],
   "source": []
  },
  {
   "cell_type": "code",
   "execution_count": null,
   "id": "scenic-harvey",
   "metadata": {},
   "outputs": [],
   "source": []
  },
  {
   "cell_type": "code",
   "execution_count": null,
   "id": "republican-acceptance",
   "metadata": {},
   "outputs": [],
   "source": []
  },
  {
   "cell_type": "code",
   "execution_count": null,
   "id": "spectacular-generation",
   "metadata": {},
   "outputs": [],
   "source": []
  },
  {
   "cell_type": "code",
   "execution_count": null,
   "id": "published-shoulder",
   "metadata": {},
   "outputs": [],
   "source": []
  },
  {
   "cell_type": "code",
   "execution_count": null,
   "id": "french-shooting",
   "metadata": {},
   "outputs": [],
   "source": []
  },
  {
   "cell_type": "code",
   "execution_count": null,
   "id": "vertical-brown",
   "metadata": {},
   "outputs": [],
   "source": []
  },
  {
   "cell_type": "code",
   "execution_count": null,
   "id": "productive-monday",
   "metadata": {},
   "outputs": [],
   "source": []
  },
  {
   "cell_type": "code",
   "execution_count": null,
   "id": "reflected-gateway",
   "metadata": {},
   "outputs": [],
   "source": []
  },
  {
   "cell_type": "code",
   "execution_count": null,
   "id": "optimum-lunch",
   "metadata": {},
   "outputs": [],
   "source": []
  },
  {
   "cell_type": "code",
   "execution_count": null,
   "id": "legislative-rehabilitation",
   "metadata": {},
   "outputs": [],
   "source": []
  },
  {
   "cell_type": "code",
   "execution_count": null,
   "id": "nearby-collective",
   "metadata": {},
   "outputs": [],
   "source": []
  },
  {
   "cell_type": "code",
   "execution_count": null,
   "id": "sexual-group",
   "metadata": {},
   "outputs": [],
   "source": []
  },
  {
   "cell_type": "code",
   "execution_count": null,
   "id": "attended-italic",
   "metadata": {},
   "outputs": [],
   "source": []
  },
  {
   "cell_type": "code",
   "execution_count": null,
   "id": "fixed-instrument",
   "metadata": {},
   "outputs": [],
   "source": []
  }
 ],
 "metadata": {
  "kernelspec": {
   "display_name": "Python 3",
   "language": "python",
   "name": "python3"
  },
  "language_info": {
   "codemirror_mode": {
    "name": "ipython",
    "version": 3
   },
   "file_extension": ".py",
   "mimetype": "text/x-python",
   "name": "python",
   "nbconvert_exporter": "python",
   "pygments_lexer": "ipython3",
   "version": "3.9.1"
  }
 },
 "nbformat": 4,
 "nbformat_minor": 5
}
